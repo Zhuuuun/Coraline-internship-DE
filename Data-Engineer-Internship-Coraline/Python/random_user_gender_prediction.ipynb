{
 "cells": [
  {
   "cell_type": "code",
   "execution_count": null,
   "id": "228af923",
   "metadata": {},
   "outputs": [],
   "source": [
    "import requests\n",
    "import pandas as pd"
   ]
  },
  {
   "cell_type": "code",
   "execution_count": null,
   "id": "33b33524",
   "metadata": {},
   "outputs": [],
   "source": [
    "# define static value\n",
    "\n",
    "rand_user_url = 'https://randomuser.me/api'\n",
    "predict_user_url = 'https://api.genderize.io/'\n",
    "user_amt = 20"
   ]
  },
  {
   "cell_type": "code",
   "execution_count": null,
   "id": "17ea9364",
   "metadata": {
    "scrolled": true
   },
   "outputs": [],
   "source": [
    "# function to fetch api \n",
    "# return data in json format\n",
    "\n",
    "def get_data(url, params=None, headers=None):\n",
    "    try:\n",
    "        res = requests.get(url,params,headers=headers)\n",
    "        res.raise_for_status() \n",
    "        return res.json()\n",
    "    except requests.RequestException as e:\n",
    "        print(f\"fetching data failed : {e}\")\n",
    "        return None "
   ]
  },
  {
   "cell_type": "code",
   "execution_count": null,
   "id": "17294d56",
   "metadata": {},
   "outputs": [],
   "source": [
    "# function to extract data from random user API\n",
    "# return first name, last name and actual_gender in dictionary format\n",
    "\n",
    "def generate_random_user(num) :\n",
    "    users = []\n",
    "    for _ in range(num):\n",
    "        try:\n",
    "            res = get_data(rand_user_url)\n",
    "            data = {\n",
    "                \"first_name\": res['results'][0]['name']['first'],\n",
    "                \"last_name\": res['results'][0]['name']['last'],\n",
    "                \"gender(actual)\": res['results'][0]['gender']\n",
    "            }\n",
    "            users.append(data)\n",
    "        except (KeyError, IndexError) as e:\n",
    "            print(f\"KeyError or IndexError occured: {e}\")\n",
    "        except Exception as e:\n",
    "            print(f\"An unexpected error occurred: {e}\")\n",
    "    return users"
   ]
  },
  {
   "cell_type": "code",
   "execution_count": null,
   "id": "7313c75b",
   "metadata": {
    "scrolled": true
   },
   "outputs": [],
   "source": [
    "# generate 20 users and stored in variable\n",
    "\n",
    "users = generate_random_user(user_amt)\n",
    "users"
   ]
  },
  {
   "cell_type": "code",
   "execution_count": null,
   "id": "11f0307f",
   "metadata": {},
   "outputs": [],
   "source": [
    "# convert list of dictionaries into dataframe\n",
    "\n",
    "user_df = pd.DataFrame(users)"
   ]
  },
  {
   "cell_type": "code",
   "execution_count": null,
   "id": "46d9a475",
   "metadata": {},
   "outputs": [],
   "source": [
    "user_df"
   ]
  },
  {
   "cell_type": "code",
   "execution_count": null,
   "id": "99c3b54b",
   "metadata": {},
   "outputs": [],
   "source": [
    "'''\n",
    "function to generate prediction from prediction API\n",
    "return :\n",
    "    1. gender\n",
    "    2. probability\n",
    "'''\n",
    "def generate_prediction(name):\n",
    "    res = get_data(predict_user_url, params={'name': name})\n",
    "    if res:\n",
    "        gender = res.get('gender')\n",
    "        probability = res.get('probability')\n",
    "        return gender, probability\n",
    "    else:\n",
    "        return None, None"
   ]
  },
  {
   "cell_type": "code",
   "execution_count": null,
   "id": "619fec99",
   "metadata": {},
   "outputs": [],
   "source": [
    "# using applymap to with column first_name to send each name to function generate_prediction\n",
    "# convert returned data into Series and create new columns predict_gender and probability from Series\n",
    "\n",
    "user_df[['gender(predict)','probability']] = user_df['first_name'].apply(lambda name: pd.Series(generate_prediction(name)))"
   ]
  },
  {
   "cell_type": "code",
   "execution_count": null,
   "id": "b2559ec4",
   "metadata": {},
   "outputs": [],
   "source": [
    "# if data from column actual_gender and predict_gender doesn't inconsistency we need to transformatoin into same format first\n",
    "# (e.g. column actual_gender use 'F' and 'M' but predict_gender use 'female' and 'male' this is inconsistency )\n",
    "\n",
    "user_df['same_gender'] = user_df['gender(actual)'] == user_df['gender(predict)']"
   ]
  },
  {
   "cell_type": "code",
   "execution_count": null,
   "id": "de55f4d2",
   "metadata": {},
   "outputs": [],
   "source": [
    "user_df"
   ]
  }
 ],
 "metadata": {
  "kernelspec": {
   "display_name": "Python 3 (ipykernel)",
   "language": "python",
   "name": "python3"
  },
  "language_info": {
   "codemirror_mode": {
    "name": "ipython",
    "version": 3
   },
   "file_extension": ".py",
   "mimetype": "text/x-python",
   "name": "python",
   "nbconvert_exporter": "python",
   "pygments_lexer": "ipython3",
   "version": "3.11.5"
  },
  "toc": {
   "base_numbering": 1,
   "nav_menu": {},
   "number_sections": true,
   "sideBar": true,
   "skip_h1_title": false,
   "title_cell": "Table of Contents",
   "title_sidebar": "Contents",
   "toc_cell": false,
   "toc_position": {},
   "toc_section_display": true,
   "toc_window_display": false
  }
 },
 "nbformat": 4,
 "nbformat_minor": 5
}
